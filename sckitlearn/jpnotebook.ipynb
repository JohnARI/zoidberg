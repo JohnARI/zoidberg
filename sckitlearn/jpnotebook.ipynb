{
 "cells": [
  {
   "cell_type": "code",
   "id": "initial_id",
   "metadata": {
    "collapsed": true,
    "ExecuteTime": {
     "end_time": "2024-07-22T13:07:13.287612Z",
     "start_time": "2024-07-22T13:07:11.778636Z"
    }
   },
   "source": [
    "import os\n",
    "import numpy as np\n",
    "import cv2\n",
    "from sklearn.model_selection import train_test_split\n",
    "from sklearn.linear_model import LogisticRegression\n",
    "from sklearn.metrics import accuracy_score\n",
    "from joblib import dump"
   ],
   "outputs": [],
   "execution_count": 1
  },
  {
   "metadata": {
    "ExecuteTime": {
     "end_time": "2024-07-22T13:07:13.296230Z",
     "start_time": "2024-07-22T13:07:13.287612Z"
    }
   },
   "cell_type": "code",
   "source": [
    "prefix_dir = '../dataset/TRAIN/'\n",
    "\n",
    "images = []\n",
    "labels = []"
   ],
   "id": "c4e24a0108443ae3",
   "outputs": [],
   "execution_count": 2
  },
  {
   "metadata": {
    "ExecuteTime": {
     "end_time": "2024-07-22T13:08:24.074272Z",
     "start_time": "2024-07-22T13:07:13.299313Z"
    }
   },
   "cell_type": "code",
   "source": [
    "%%time\n",
    "for file in os.listdir(prefix_dir):\n",
    "    image_path = os.path.join(prefix_dir, file)\n",
    "    image = cv2.imread(image_path)\n",
    "\n",
    "    if image is not None:\n",
    "        # Convertir les images en niveaux de gris et les redimensionner en 256x256\n",
    "        image = cv2.cvtColor(image, cv2.COLOR_BGR2GRAY)\n",
    "        image = cv2.resize(image, (256, 256))\n",
    "\n",
    "        # Aplatir l'image en un vecteur 1D\n",
    "        image_flattened = image.flatten()\n",
    "\n",
    "        # Déterminer le label de l'image\n",
    "        if \"virus\" in file.lower():\n",
    "            label = 1\n",
    "        elif \"bacteria\" in file.lower():\n",
    "            label = 2\n",
    "        else:\n",
    "            label = 0\n",
    "\n",
    "        images.append(image_flattened)\n",
    "        labels.append(label)\n",
    "    else:\n",
    "        print(f\"Image not loaded correctly: {image_path}\")\n"
   ],
   "id": "48d46492591658a",
   "outputs": [
    {
     "name": "stdout",
     "output_type": "stream",
     "text": [
      "CPU times: total: 44.2 s\n",
      "Wall time: 1min 10s\n"
     ]
    }
   ],
   "execution_count": 3
  },
  {
   "metadata": {
    "ExecuteTime": {
     "end_time": "2024-07-22T13:08:24.358884Z",
     "start_time": "2024-07-22T13:08:24.074666Z"
    }
   },
   "cell_type": "code",
   "source": [
    "%%time\n",
    "from sklearn.preprocessing import StandardScaler\n",
    "# Convertir les listes en tableaux numpy\n",
    "images = np.array(images)\n",
    "labels = np.array(labels)\n"
   ],
   "id": "aa972a27bb43ff9d",
   "outputs": [
    {
     "name": "stdout",
     "output_type": "stream",
     "text": [
      "CPU times: total: 109 ms\n",
      "Wall time: 271 ms\n"
     ]
    }
   ],
   "execution_count": 4
  },
  {
   "metadata": {
    "ExecuteTime": {
     "end_time": "2024-07-22T13:08:33.705789Z",
     "start_time": "2024-07-22T13:08:24.358884Z"
    }
   },
   "cell_type": "code",
   "source": [
    "X_train, X_val, y_train, y_val = train_test_split(images, labels, test_size=0.2, random_state=42)\n",
    "\n",
    "scaler = StandardScaler()\n",
    "X_train_scaled = scaler.fit_transform(X_train)\n",
    "X_val_scaled = scaler.transform(X_val)\n",
    "\n",
    "# Hyperparamètres et optimisation\n",
    "from sklearn.model_selection import GridSearchCV\n",
    "\n",
    "# Définir la grille des hyperparamètres\n",
    "param_grid = {\n",
    "    'C': [0.001, 0.01, 0.1, 1, 10, 100],\n",
    "    'penalty': ['l1', 'l2'],\n",
    "    'max_iter': list(range(1000,8000,1000)),\n",
    "    'solver': ['newton-cg', 'lbfgs', 'liblinear', 'sag', 'saga']\n",
    "}\n",
    "\n",
    "# Créer un objet GridSearchCV\n",
    "grid_search = GridSearchCV(LogisticRegression(), param_grid, cv=5)"
   ],
   "id": "cdaa98deba9686ad",
   "outputs": [],
   "execution_count": 5
  },
  {
   "metadata": {
    "jupyter": {
     "is_executing": true
    },
    "ExecuteTime": {
     "start_time": "2024-07-22T13:08:33.705789Z"
    }
   },
   "cell_type": "code",
   "source": [
    "# Entrainer le modèle\n",
    "grid_search.fit(X_train_scaled, y_train)\n",
    "\n",
    "print(\"Best parameters:\", grid_search.best_params_)\n",
    "print(\"Best score:\", grid_search.best_score_)\n",
    "\n",
    "# Prédire les labels sur l'ensemble de validation\n",
    "y_pred = grid_search.best_estimator_.predict(X_val_scaled)\n",
    "\n",
    "accuracy = accuracy_score(y_val, y_pred)\n",
    "print(\"Accuracy:\", accuracy)\n",
    "dump(grid_search.best_estimator_, 'logreg_model.joblib')"
   ],
   "id": "a3a20bec2b36886a",
   "outputs": [],
   "execution_count": null
  },
  {
   "metadata": {
    "jupyter": {
     "is_executing": true
    }
   },
   "cell_type": "code",
   "source": "",
   "id": "2bccba2a3b8257c9",
   "outputs": [],
   "execution_count": null
  }
 ],
 "metadata": {
  "kernelspec": {
   "display_name": "Python 3",
   "language": "python",
   "name": "python3"
  },
  "language_info": {
   "codemirror_mode": {
    "name": "ipython",
    "version": 2
   },
   "file_extension": ".py",
   "mimetype": "text/x-python",
   "name": "python",
   "nbconvert_exporter": "python",
   "pygments_lexer": "ipython2",
   "version": "2.7.6"
  }
 },
 "nbformat": 4,
 "nbformat_minor": 5
}
